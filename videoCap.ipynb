{
 "cells": [
  {
   "cell_type": "code",
   "execution_count": 1,
   "metadata": {},
   "outputs": [],
   "source": [
    "import numpy as np\n",
    "import cv2\n",
    "import time\n",
    "import os\n",
    "def process_mrz(mrz1):\n",
    "    if mrz1.find('784')>0 and mrz1.find('784')<18:\n",
    "        st1=mrz1.find('784')\n",
    "        return mrz1[st1:st1+18]\n",
    "    elif mrz1.find('84')>0 and mrz1.find('84')<18:\n",
    "        st1=mrz1.find('84')\n",
    "        return '7'+mrz1[st1:st1+18]\n",
    "    \n",
    "def image_resize(image, width = None, height = None, inter = cv2.INTER_AREA):\n",
    "    # initialize the dimensions of the image to be resized and\n",
    "    # grab the image size\n",
    "    dim = None\n",
    "    (h, w) = image.shape[:2]\n",
    "\n",
    "    # if both the width and height are None, then return the\n",
    "    # original image\n",
    "    if width is None and height is None:\n",
    "        return image\n",
    "\n",
    "    # check to see if the width is None\n",
    "    if width is None:\n",
    "        # calculate the ratio of the height and construct the\n",
    "        # dimensions\n",
    "        r = height / float(h)\n",
    "        dim = (int(w * r), height)\n",
    "\n",
    "    # otherwise, the height is None\n",
    "    else:\n",
    "        # calculate the ratio of the width and construct the\n",
    "        # dimensions\n",
    "        r = width / float(w)\n",
    "        dim = (width, int(h * r))\n",
    "\n",
    "    # resize the image\n",
    "    resized = cv2.resize(image, dim, interpolation = inter)\n",
    "\n",
    "    # return the resized image\n",
    "    return resized\n",
    "\n",
    "    \n",
    "    "
   ]
  },
  {
   "cell_type": "code",
   "execution_count": 2,
   "metadata": {},
   "outputs": [],
   "source": [
    "def get_mrz_eida(image_file):\n",
    "    from passporteye.mrz.image import MRZPipeline\n",
    "    p = MRZPipeline(image_file)\n",
    "    p.result\n",
    "    mrz1=p.data['text'].replace(' ','').replace('-','').split('\\n')[0]\n",
    "    mrz_final=process_mrz(mrz1)\n",
    "    print(mrz_final)\n",
    "    text_file = open(curr_dir+\"final_mrz.txt\", \"w\")\n",
    "    n = text_file.write(mrz_final)\n",
    "    text_file.close()\n",
    "    return mrz_final"
   ]
  },
  {
   "cell_type": "code",
   "execution_count": 3,
   "metadata": {},
   "outputs": [],
   "source": [
    "curr_dir=\"E:\\\\idn\\\\\"\n",
    "image_name='input.jpg'\n",
    "image_file=curr_dir+image_name"
   ]
  },
  {
   "cell_type": "code",
   "execution_count": 5,
   "metadata": {},
   "outputs": [
    {
     "name": "stdout",
     "output_type": "stream",
     "text": [
      "\n",
      "\n",
      "\n",
      "None\n",
      "\n",
      "784199753648270\n",
      "before showing :784199753648270\n",
      "Alert ! Camera disconnected\n",
      "--- 8.330466032028198 seconds ---\n"
     ]
    }
   ],
   "source": [
    "import numpy as np\n",
    "import cv2\n",
    "import time\n",
    "import os\n",
    "n1='12'\n",
    "n7='Identified :'\n",
    "try:\n",
    "    os.remove(image_file)\n",
    "except:\n",
    "    print()\n",
    "font                   = cv2.FONT_HERSHEY_SIMPLEX\n",
    "fontScale              = 1\n",
    "fontColor              = (255,0,0)\n",
    "lineType               = 2\n",
    "start_point1 = (90, 90)\n",
    "\n",
    "cap = cv2.VideoCapture(0)\n",
    "start_time = time.time()\n",
    "while(cap.isOpened()):\n",
    "      \n",
    "    while True:\n",
    "          \n",
    "        ret, img = cap.read()\n",
    "        start_point = (150, 150)\n",
    "        end_point = (588, 355)\n",
    "        color = (255, 0, 0)\n",
    "        thickness = 2\n",
    "\n",
    "        \n",
    "        from PIL import Image\n",
    "        \n",
    "        thresh = 127\n",
    "        #im_bw = cv2.threshold(img, thresh, 255, cv2.THRESH_BINARY)[1]\n",
    "        img3 = image_resize(img, height = 1600)\n",
    "        im = Image.fromarray(img3)\n",
    "        im.save(image_file)\n",
    "        \n",
    "        img2 = cv2.rectangle(img, start_point, end_point, color, thickness)\n",
    "\n",
    "       \n",
    "        #time.sleep(1)\n",
    "        cv2.imshow('img', img2)\n",
    "        try:\n",
    "            n1=get_mrz_eida(image_file)\n",
    "            print('before showing :'+n1)\n",
    "            if len(n1)>=14:\n",
    "                cv2.putText(img2,n7+n1, \n",
    "        start_point1, \n",
    "        font, \n",
    "        fontScale,\n",
    "        fontColor,\n",
    "        lineType)\n",
    "                cv2.imshow('img', img2)\n",
    "                #time.sleep(3)\n",
    "                break\n",
    "            \n",
    "            \n",
    "        except:\n",
    "            print()\n",
    "        if len(n1)>=14:\n",
    "            print(n7+n1)\n",
    "            #break\n",
    "            \n",
    "\n",
    "        if cv2.waitKey(30) & 0xff == ord('q'):\n",
    "            break\n",
    "              \n",
    "    cap.release()\n",
    "    cv2.destroyAllWindows()\n",
    "else:\n",
    "    print(\"Alert ! Camera disconnected\")\n",
    "print(\"--- %s seconds ---\" % (time.time() - start_time))"
   ]
  },
  {
   "cell_type": "code",
   "execution_count": null,
   "metadata": {},
   "outputs": [],
   "source": [
    "type(roi)"
   ]
  },
  {
   "cell_type": "code",
   "execution_count": null,
   "metadata": {},
   "outputs": [],
   "source": [
    "%matplotlib inline \n",
    "from matplotlib import pyplot as plt\n",
    "plt.imshow(img, interpolation='nearest')\n",
    "plt.show()"
   ]
  },
  {
   "cell_type": "code",
   "execution_count": null,
   "metadata": {},
   "outputs": [],
   "source": [
    "img.shape"
   ]
  },
  {
   "cell_type": "code",
   "execution_count": null,
   "metadata": {},
   "outputs": [],
   "source": [
    "image_file"
   ]
  },
  {
   "cell_type": "code",
   "execution_count": null,
   "metadata": {},
   "outputs": [],
   "source": [
    "from passporteye.mrz.image import read_mrz\n",
    "mrz = read_mrz(image_file, save_roi=True)\n",
    "mrz"
   ]
  },
  {
   "cell_type": "code",
   "execution_count": null,
   "metadata": {},
   "outputs": [],
   "source": [
    "roi=mrz.aux['roi']\n",
    "plt.imshow(roi, interpolation='nearest')"
   ]
  },
  {
   "cell_type": "code",
   "execution_count": null,
   "metadata": {},
   "outputs": [],
   "source": [
    "from passporteye.mrz.image import MRZPipeline\n",
    "p = MRZPipeline(image_file)\n",
    "p.result"
   ]
  },
  {
   "cell_type": "markdown",
   "metadata": {},
   "source": [
    "## https://github.com/konstantint/PassportEye/issues/38"
   ]
  },
  {
   "cell_type": "code",
   "execution_count": null,
   "metadata": {},
   "outputs": [],
   "source": [
    "try:\n",
    "    n1=get_mrz_eida(image_file)\n",
    "except:\n",
    "    print()"
   ]
  },
  {
   "cell_type": "code",
   "execution_count": null,
   "metadata": {},
   "outputs": [],
   "source": [
    "    cap.release()\n",
    "    cv2.destroyAllWindows()"
   ]
  },
  {
   "cell_type": "code",
   "execution_count": null,
   "metadata": {},
   "outputs": [],
   "source": [
    "from matplotlib import pyplot as plt\n",
    "from passporteye import read_mrz\n",
    "mrz = read_mrz(image_file, save_roi=True)\n",
    "roi=mrz.aux['roi']\n",
    "plt.imshow(roi, interpolation='nearest')\n",
    "plt.show()"
   ]
  },
  {
   "cell_type": "code",
   "execution_count": null,
   "metadata": {},
   "outputs": [],
   "source": [
    "mrz"
   ]
  },
  {
   "cell_type": "code",
   "execution_count": null,
   "metadata": {},
   "outputs": [],
   "source": []
  }
 ],
 "metadata": {
  "kernelspec": {
   "display_name": "Python 3",
   "language": "python",
   "name": "python3"
  },
  "language_info": {
   "codemirror_mode": {
    "name": "ipython",
    "version": 3
   },
   "file_extension": ".py",
   "mimetype": "text/x-python",
   "name": "python",
   "nbconvert_exporter": "python",
   "pygments_lexer": "ipython3",
   "version": "3.6.7"
  }
 },
 "nbformat": 4,
 "nbformat_minor": 2
}
